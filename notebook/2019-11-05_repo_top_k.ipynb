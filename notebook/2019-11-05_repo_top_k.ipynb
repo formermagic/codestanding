{
 "cells": [
  {
   "cell_type": "code",
   "execution_count": 4,
   "metadata": {},
   "outputs": [],
   "source": [
    "import sys\n",
    "sys.path.append(\"../\")"
   ]
  },
  {
   "cell_type": "code",
   "execution_count": 152,
   "metadata": {},
   "outputs": [],
   "source": [
    "from src.download_commit_data import Config\n",
    "from tqdm import tqdm_notebook\n",
    "\n",
    "import os\n",
    "import github\n",
    "import typing\n",
    "import jsonlines"
   ]
  },
  {
   "cell_type": "code",
   "execution_count": 163,
   "metadata": {},
   "outputs": [],
   "source": [
    "config = Config(filename=\"../config/github.yml\")\n",
    "output_dir = \"../data/repositories/\""
   ]
  },
  {
   "cell_type": "code",
   "execution_count": 164,
   "metadata": {},
   "outputs": [],
   "source": [
    "g = github.Github(login_or_token=config.token, per_page=100)"
   ]
  },
  {
   "cell_type": "code",
   "execution_count": 131,
   "metadata": {},
   "outputs": [],
   "source": [
    "class Parser:\n",
    "    def parse_repo(self, repo: github.Repository):\n",
    "        return {\n",
    "            \"full_name\": repo.full_name,\n",
    "            \"language\": repo.language,\n",
    "            \"commits\": repo.get_commits().totalCount,\n",
    "            \"stargazers_count\": repo.stargazers_count,\n",
    "            \"watchers_count\": repo.watchers_count,\n",
    "            \"forks_count\": repo.forks_count,\n",
    "            \"size\": repo.size,\n",
    "            \"archived\": repo.archived,\n",
    "            \"fork\": repo.fork\n",
    "        }\n",
    "\n",
    "class RepoLoader:\n",
    "    def __init__(self, parser: Parser, min_followers: int = 0):\n",
    "        self.parser = parser\n",
    "        self.min_followers = min_followers\n",
    "        \n",
    "    def search_popular_repos(self, followers: typing.Optional[int] = None) -> typing.Dict[str, typing.Any]:\n",
    "        query: str = f\"language:python followers:<{followers}\" if followers else \"language:python\"\n",
    "        pages = g.search_repositories(query=query, sort=\"stars\", order=\"desc\")\n",
    "        repos = [self.parser.parse_repo(repo) for repo in tqdm_notebook(pages, total=pages.totalCount)]\n",
    "        return repos\n",
    "    \n",
    "    def search_all_popular_repos(self) -> typing.Dict[str, typing.Any]:\n",
    "        repos: typing.Dict[str, typing.Any] = []\n",
    "        followers: typing.Optional[int] = None\n",
    "        while True:\n",
    "            repos += self.search_popular_repos(followers)\n",
    "            if not repos:\n",
    "                return repos\n",
    "            if followers and followers <= self.min_followers:\n",
    "                return repos\n",
    "            followers = repos[-1][\"stargazers_count\"]"
   ]
  },
  {
   "cell_type": "code",
   "execution_count": 132,
   "metadata": {},
   "outputs": [],
   "source": [
    "loader = RepoLoader(parser=Parser(), min_followers=0)"
   ]
  },
  {
   "cell_type": "code",
   "execution_count": 133,
   "metadata": {},
   "outputs": [
    {
     "data": {
      "application/vnd.jupyter.widget-view+json": {
       "model_id": "405e2b732149486488b90ed60621e1fd",
       "version_major": 2,
       "version_minor": 0
      },
      "text/plain": [
       "HBox(children=(IntProgress(value=0, max=1000), HTML(value='')))"
      ]
     },
     "metadata": {},
     "output_type": "display_data"
    },
    {
     "name": "stdout",
     "output_type": "stream",
     "text": [
      "\n"
     ]
    }
   ],
   "source": [
    "top1000 = loader.search_popular_repos()"
   ]
  },
  {
   "cell_type": "code",
   "execution_count": 151,
   "metadata": {},
   "outputs": [
    {
     "data": {
      "application/vnd.jupyter.widget-view+json": {
       "model_id": "1e2405c9a7bc4a898d68274adba4c272",
       "version_major": 2,
       "version_minor": 0
      },
      "text/plain": [
       "HBox(children=(IntProgress(value=0, max=1000), HTML(value='')))"
      ]
     },
     "metadata": {},
     "output_type": "display_data"
    },
    {
     "name": "stdout",
     "output_type": "stream",
     "text": [
      "\n"
     ]
    }
   ],
   "source": [
    "top2000 = loader.search_popular_repos(followers=2127)"
   ]
  },
  {
   "cell_type": "code",
   "execution_count": 153,
   "metadata": {},
   "outputs": [
    {
     "data": {
      "text/plain": [
       "{'full_name': 'freqtrade/freqtrade',\n",
       " 'language': 'Python',\n",
       " 'commits': 6703,\n",
       " 'stargazers_count': 2112,\n",
       " 'watchers_count': 2112,\n",
       " 'forks_count': 665,\n",
       " 'size': 38585,\n",
       " 'archived': False,\n",
       " 'fork': False}"
      ]
     },
     "execution_count": 153,
     "metadata": {},
     "output_type": "execute_result"
    }
   ],
   "source": [
    "top1000[-1]"
   ]
  },
  {
   "cell_type": "code",
   "execution_count": 156,
   "metadata": {},
   "outputs": [
    {
     "data": {
      "text/plain": [
       "{'full_name': 'rochacbruno-archive/quokka',\n",
       " 'language': 'Python',\n",
       " 'commits': 117,\n",
       " 'stargazers_count': 2126,\n",
       " 'watchers_count': 2126,\n",
       " 'forks_count': 452,\n",
       " 'size': 11550,\n",
       " 'archived': False,\n",
       " 'fork': False}"
      ]
     },
     "execution_count": 156,
     "metadata": {},
     "output_type": "execute_result"
    }
   ],
   "source": [
    "top2000[0]"
   ]
  },
  {
   "cell_type": "code",
   "execution_count": 165,
   "metadata": {},
   "outputs": [],
   "source": [
    "def save(filename: str, data: typing.List[typing.Dict[str, typing.Any]]):\n",
    "    filepath = os.path.join(output_dir, filename)\n",
    "    os.makedirs(output_dir, exist_ok=True)\n",
    "    with jsonlines.open(filepath, mode='w') as writer:\n",
    "        writer.write(data)"
   ]
  },
  {
   "cell_type": "code",
   "execution_count": 167,
   "metadata": {},
   "outputs": [],
   "source": [
    "save(filename=\"top1000_page1.jsonl\", data=top1000)"
   ]
  },
  {
   "cell_type": "code",
   "execution_count": 168,
   "metadata": {},
   "outputs": [],
   "source": [
    "save(filename=\"top1000_page2.jsonl\", data=top2000)"
   ]
  },
  {
   "cell_type": "code",
   "execution_count": null,
   "metadata": {},
   "outputs": [],
   "source": []
  }
 ],
 "metadata": {
  "kernelspec": {
   "display_name": "Python 3",
   "language": "python",
   "name": "python3"
  },
  "language_info": {
   "codemirror_mode": {
    "name": "ipython",
    "version": 3
   },
   "file_extension": ".py",
   "mimetype": "text/x-python",
   "name": "python",
   "nbconvert_exporter": "python",
   "pygments_lexer": "ipython3",
   "version": "3.7.4"
  }
 },
 "nbformat": 4,
 "nbformat_minor": 2
}
