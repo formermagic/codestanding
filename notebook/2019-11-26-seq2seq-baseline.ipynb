{
 "cells": [
  {
   "cell_type": "code",
   "execution_count": 1,
   "metadata": {},
   "outputs": [],
   "source": [
    "import sys\n",
    "sys.path.append(\"../\")"
   ]
  },
  {
   "cell_type": "code",
   "execution_count": 2,
   "metadata": {},
   "outputs": [],
   "source": [
    "import torch\n",
    "import torch.nn as nn\n",
    "import torch.nn.functional as F\n",
    "import torch.optim as optim\n",
    "import torchtext\n",
    "import torchtext.data as data\n",
    "from torchtext.data import Field, BucketIterator\n",
    "\n",
    "import random\n",
    "from tqdm import tqdm\n",
    "import time\n",
    "import math\n",
    "\n",
    "from torch.nn.utils.rnn import pack_padded_sequence, pad_packed_sequence\n",
    "\n",
    "import typing\n",
    "\n",
    "from src.tokenize import base_tokenizer, Vocab, TextPreprocessor"
   ]
  },
  {
   "cell_type": "code",
   "execution_count": 3,
   "metadata": {},
   "outputs": [],
   "source": [
    "SEED = 1234\n",
    "\n",
    "random.seed(SEED)\n",
    "torch.manual_seed(SEED)\n",
    "torch.cuda.manual_seed(SEED)\n",
    "torch.backends.cudnn.deterministic = True"
   ]
  },
  {
   "cell_type": "code",
   "execution_count": 4,
   "metadata": {},
   "outputs": [],
   "source": [
    "global max_src_in_batch, max_tgt_in_batch\n",
    "\n",
    "def batch_size_fn(new, count, sofar):\n",
    "    \"Keep augmenting batch and calculate total number of tokens + padding.\"\n",
    "    global max_src_in_batch, max_tgt_in_batch\n",
    "    if count == 1:\n",
    "        max_src_in_batch = 0\n",
    "        max_tgt_in_batch = 0\n",
    "    max_src_in_batch = max(max_src_in_batch,  len(new.source))\n",
    "    max_tgt_in_batch = max(max_tgt_in_batch,  len(new.target) + 2)\n",
    "    src_elements = count * max_src_in_batch\n",
    "    tgt_elements = count * max_tgt_in_batch\n",
    "    return max(src_elements, tgt_elements)"
   ]
  },
  {
   "cell_type": "code",
   "execution_count": 5,
   "metadata": {},
   "outputs": [],
   "source": [
    "class FastIterator(data.Iterator):\n",
    "    def create_batches(self):\n",
    "        if self.train:\n",
    "            def pool(d, random_shuffler):\n",
    "                for p in data.batch(d, self.batch_size * 100):\n",
    "                    p_batch = data.batch(\n",
    "                        sorted(p, key=self.sort_key),\n",
    "                        self.batch_size, self.batch_size_fn)\n",
    "                    for b in random_shuffler(list(p_batch)):\n",
    "                        yield b\n",
    "            self.batches = pool(self.data(), self.random_shuffler)\n",
    "            \n",
    "        else:\n",
    "            self.batches = []\n",
    "            for b in data.batch(self.data(), self.batch_size,\n",
    "                                          self.batch_size_fn):\n",
    "                self.batches.append(sorted(b, key=self.sort_key))"
   ]
  },
  {
   "cell_type": "markdown",
   "metadata": {},
   "source": [
    "# Prepare the data"
   ]
  },
  {
   "cell_type": "code",
   "execution_count": 6,
   "metadata": {},
   "outputs": [],
   "source": [
    "MAX_LEN = 1000\n",
    "BATCH_SIZE = 8"
   ]
  },
  {
   "cell_type": "code",
   "execution_count": 7,
   "metadata": {},
   "outputs": [],
   "source": [
    "SRC_TEXT = Field(init_token=\"<s>\", eos_token=\"</s>\", include_lengths=True)\n",
    "TRG_TEXT = Field(init_token=\"<s>\", eos_token=\"</s>\")"
   ]
  },
  {
   "cell_type": "code",
   "execution_count": 8,
   "metadata": {},
   "outputs": [],
   "source": [
    "device = torch.device(\"cuda\" if torch.cuda.is_available() else \"cpu\")"
   ]
  },
  {
   "cell_type": "code",
   "execution_count": 9,
   "metadata": {},
   "outputs": [],
   "source": [
    "data_fields = [(\"source\", SRC_TEXT), (\"target\", TRG_TEXT)]\n",
    "\n",
    "def filter_pred(x: str) -> bool: \n",
    "    return len(x.source) <= MAX_LEN and len(x.target) <= MAX_LEN\n",
    "\n",
    "dataset = torchtext.datasets.TranslationDataset(\n",
    "    path=\"/workspace/tmp/dataset/train\", \n",
    "    exts=(\".diff\", \".msg\"), \n",
    "    fields=data_fields,\n",
    "    filter_pred=filter_pred\n",
    ")"
   ]
  },
  {
   "cell_type": "code",
   "execution_count": 10,
   "metadata": {},
   "outputs": [],
   "source": [
    "train_data, test_data, valid_data = dataset.split(split_ratio=[0.8, 0.15, 0.05])"
   ]
  },
  {
   "cell_type": "code",
   "execution_count": 11,
   "metadata": {},
   "outputs": [],
   "source": [
    "SRC_TEXT.build_vocab(train_data.source, min_freq=0)\n",
    "TRG_TEXT.build_vocab(train_data.target, min_freq=0)"
   ]
  },
  {
   "cell_type": "code",
   "execution_count": 12,
   "metadata": {},
   "outputs": [],
   "source": [
    "train_iterator, valid_iterator, test_iterator = FastIterator.splits(\n",
    "    datasets=(train_data, valid_data, test_data),\n",
    "    batch_size=BATCH_SIZE,\n",
    "    sort_key=lambda x: (len(x.source)),\n",
    "    sort_within_batch=True,\n",
    "    # batch_size_fn=batch_size_fn,\n",
    "    shuffle=True,\n",
    "    device=device\n",
    ")"
   ]
  },
  {
   "cell_type": "code",
   "execution_count": 13,
   "metadata": {},
   "outputs": [
    {
     "data": {
      "text/plain": [
       "\n",
       "[torchtext.data.batch.Batch of size 8]\n",
       "\t[.source]:('[torch.LongTensor of size 413x8]', '[torch.LongTensor of size 8]')\n",
       "\t[.target]:[torch.LongTensor of size 20x8]"
      ]
     },
     "execution_count": 13,
     "metadata": {},
     "output_type": "execute_result"
    }
   ],
   "source": [
    "src_data = next(iter(train_iterator))\n",
    "src_data"
   ]
  },
  {
   "cell_type": "markdown",
   "metadata": {},
   "source": [
    "# Build the seq2seq baseline"
   ]
  },
  {
   "cell_type": "code",
   "execution_count": 15,
   "metadata": {},
   "outputs": [],
   "source": [
    "class Encoder(nn.Module):\n",
    "    def __init__(self, input_dim, emb_dim, enc_hid_dim, dec_hid_dim, dropout):\n",
    "        super().__init__()\n",
    "        self.embedding = nn.Embedding(\n",
    "            num_embeddings=input_dim, embedding_dim=emb_dim\n",
    "        )\n",
    "        self.rnn = nn.GRU(\n",
    "            input_size=emb_dim, hidden_size=enc_hid_dim, bidirectional=True\n",
    "        )\n",
    "        self.linear = nn.Linear(\n",
    "            in_features=enc_hid_dim * 2, out_features=dec_hid_dim\n",
    "        )\n",
    "        self.dropout = nn.Dropout(dropout)\n",
    "\n",
    "    def forward(self, src: torch.Tensor, lengths: torch.Tensor):\n",
    "        embedded = self.embedding(src)\n",
    "        embedded = self.dropout(embedded)\n",
    "        \n",
    "        packed_input = pack_padded_sequence(embedded, lengths)\n",
    "        packed_outputs, hidden = self.rnn(packed_input)\n",
    "        outputs, _ = pad_packed_sequence(packed_outputs)\n",
    "\n",
    "        # [batch_size, enc_hid_dim * 2]\n",
    "        hidden_cat_layers = torch.cat(\n",
    "            (hidden[-2, :, :], hidden[-1, :, :]), dim=1\n",
    "        )\n",
    "\n",
    "        # Like in the original paper\n",
    "        # hidden_cat_layers = torch.tanh(self.linear(hidden[-1, :, :]))\n",
    "\n",
    "        # [batch_size, dec_hid_dim]\n",
    "        hidden = torch.tanh(self.linear(hidden_cat_layers))\n",
    "\n",
    "        # outputs = [seq_len, batch_size, enc_hid_dim * 2]\n",
    "        # hidden = [batch_size, dec_hid_dim]\n",
    "        return outputs, hidden"
   ]
  },
  {
   "cell_type": "code",
   "execution_count": 16,
   "metadata": {},
   "outputs": [],
   "source": [
    "class Attention(nn.Module):\n",
    "    def __init__(self, enc_hid_dim, dec_hid_dim):\n",
    "        super().__init__()\n",
    "        self.attn = nn.Linear(\n",
    "            in_features=(enc_hid_dim * 2) + dec_hid_dim,\n",
    "            out_features=dec_hid_dim,\n",
    "        )\n",
    "        self.v = nn.Parameter(torch.rand(dec_hid_dim))\n",
    "\n",
    "    def forward(self, hidden: torch.Tensor, encoder_outputs: torch.Tensor, mask: torch.Tensor) -> torch.Tensor:\n",
    "        seq_len = encoder_outputs.size()[0]\n",
    "        batch_size = encoder_outputs.size()[1]\n",
    "\n",
    "        # [batch_size, seq_len, dec_hid_dim]\n",
    "        hidden = hidden.unsqueeze(1).repeat(1, seq_len, 1)\n",
    "        # [batch_size, seq_len, enc_hid_dim * 2]\n",
    "        encoder_outputs = encoder_outputs.permute(1, 0, 2)\n",
    "\n",
    "        # [batch_size, seq_len, enc_hid_dim * 2 + dec_hid_dim]\n",
    "        query_layers = torch.cat((hidden, encoder_outputs), dim=2)\n",
    "        # [batch_size, seq_len, dec_hid_dim]\n",
    "        energy = torch.tanh(self.attn(query_layers))\n",
    "\n",
    "        # We need to get scores of size [batch_size, seq_len]\n",
    "        # so we just multiply matrices with trycky permutations\n",
    "        # to get rid of dec_hid_dim axis\n",
    "\n",
    "        # [batch_size, 1, dec_hid_dim]\n",
    "        v = self.v.repeat(batch_size, 1).unsqueeze(1)\n",
    "        # [batch_size, dec_hid_dim, seq_len]\n",
    "        energy = energy.permute(0, 2, 1)\n",
    "\n",
    "        # [batch_size, seq_len]\n",
    "        scores = torch.bmm(v, energy).squeeze(1)\n",
    "        \n",
    "        # skip pad tokens\n",
    "        scores = scores.masked_fill(mask == 0, float('-inf'))\n",
    "\n",
    "        # [batch_size, seq_len]\n",
    "        return F.softmax(scores, dim=1)"
   ]
  },
  {
   "cell_type": "code",
   "execution_count": 17,
   "metadata": {},
   "outputs": [],
   "source": [
    "class Decoder(nn.Module):\n",
    "    def __init__(\n",
    "        self, output_dim, emb_dim, enc_hid_dim, dec_hid_dim, dropout, attention\n",
    "    ):\n",
    "        super().__init__()\n",
    "        self.output_dim = output_dim\n",
    "        self.attention = attention\n",
    "\n",
    "        self.embedding = nn.Embedding(\n",
    "            num_embeddings=output_dim, embedding_dim=emb_dim\n",
    "        )\n",
    "        # encoder is bidirectional, so input_size=(enc_hid_dim * 2) + emb_dim\n",
    "        self.rnn = nn.GRU(\n",
    "            input_size=(enc_hid_dim * 2) + emb_dim, hidden_size=dec_hid_dim\n",
    "        )\n",
    "        self.out = nn.Linear(\n",
    "            in_features=(enc_hid_dim * 2) + emb_dim + dec_hid_dim,\n",
    "            out_features=output_dim,\n",
    "        )\n",
    "\n",
    "        self.dropout = nn.Dropout(dropout)\n",
    "\n",
    "    def forward(self, src, hidden, encoder_outputs, mask):\n",
    "        # [1, batch_size]\n",
    "        src = src.unsqueeze(0)\n",
    "        # [1, batch_size, emb_dim]\n",
    "        embedded = self.dropout(self.embedding(src))\n",
    "\n",
    "        # [batch_size, seq_len]\n",
    "        attn = self.attention(hidden, encoder_outputs, mask)\n",
    "        # [batch_size, 1, seq_len]\n",
    "        attn = attn.unsqueeze(1)\n",
    "\n",
    "        # [batch_size, seq_len, enc_hid_dim * 2]\n",
    "        encoder_outputs = encoder_outputs.permute(1, 0, 2)\n",
    "\n",
    "        # [batch_size, 1, enc_hid_dim * 2]\n",
    "        weighted = torch.bmm(attn, encoder_outputs)\n",
    "        # [1, batch_size, enc_hid_dim * 2]\n",
    "        weighted = weighted.permute(1, 0, 2)\n",
    "\n",
    "        # [1, batch_size, emb_dim + enc_hid_dim * 2]\n",
    "        rnn_input = torch.cat((embedded, weighted), dim=2)\n",
    "        # [1, batch_size, dec_hid_dim]\n",
    "        rnn_hidden = hidden.unsqueeze(0)\n",
    "\n",
    "        # output = [seq len, batch size, dec hid dim * n directions]\n",
    "        # hidden = [n layers * n directions, batch size, dec hid dim]\n",
    "        output, hidden = self.rnn(rnn_input, rnn_hidden)\n",
    "\n",
    "        # [batch_size, emb_dim]\n",
    "        embedded = embedded.squeeze(0)\n",
    "        # [batch_size, dec_hid_dim]\n",
    "        output = output.squeeze(0)\n",
    "        # [batch_size, enc_hid_dim * 2]\n",
    "        weighted = weighted.squeeze(0)\n",
    "\n",
    "        # [batch_size, emb_dim + dec_hid_dim + enc_hid_dim * 2]\n",
    "        output_cat = torch.cat((embedded, output, weighted), dim=1)\n",
    "        # [batch_size, output_dim]\n",
    "        pred = self.out(output_cat)\n",
    "\n",
    "        return pred, hidden.squeeze(0)"
   ]
  },
  {
   "cell_type": "code",
   "execution_count": 18,
   "metadata": {},
   "outputs": [],
   "source": [
    "class Seq2Seq(nn.Module):\n",
    "    def __init__(self, encoder, decoder, src_pad_idx, device):\n",
    "        super().__init__()\n",
    "        self.encoder = encoder\n",
    "        self.decoder = decoder\n",
    "        self.src_pad_idx = src_pad_idx\n",
    "        self.device = device\n",
    "\n",
    "    def make_mask(self, src):\n",
    "        _mask = (src != self.src_pad_idx)\n",
    "        _mask = _mask.permute(1, 0)\n",
    "        return _mask\n",
    "        \n",
    "    def forward(self, src, src_lengths, trg, teacher_forcing_ratio=0.5):\n",
    "        # src = [src_len, batch_size]\n",
    "        # trg = [trg_len, batch_size]\n",
    "\n",
    "        batch_size = src.size()[1]\n",
    "        trg_len = trg.size()[0]\n",
    "        trg_vocab_size = self.decoder.output_dim\n",
    "\n",
    "        outputs = torch.zeros(trg_len, batch_size, trg_vocab_size)\n",
    "        outputs = outputs.to(self.device)\n",
    "\n",
    "        encoder_outputs, hidden = self.encoder(src, src_lengths)\n",
    "\n",
    "        x = trg[0, :]\n",
    "        mask = self.make_mask(src)\n",
    "        for t in range(1, trg_len):\n",
    "            pred, hidden = self.decoder(x, hidden, encoder_outputs, mask)\n",
    "            outputs[t] = pred\n",
    "            teacher_forcing = random.random() < teacher_forcing_ratio\n",
    "            best_pred = pred.argmax(dim=1)\n",
    "            x = trg[t] if teacher_forcing else best_pred\n",
    "\n",
    "        # [trg_len, batch_size, trg_vocab_size]\n",
    "        return outputs"
   ]
  },
  {
   "cell_type": "markdown",
   "metadata": {},
   "source": [
    "# Train seq2seq baseline"
   ]
  },
  {
   "cell_type": "code",
   "execution_count": 19,
   "metadata": {},
   "outputs": [],
   "source": [
    "INPUT_DIM = len(SRC_TEXT.vocab)\n",
    "OUTPUT_DIM = len(TRG_TEXT.vocab)\n",
    "ENC_EMB_DIM = 256\n",
    "DEC_EMB_DIM = 256\n",
    "ENC_HID_DIM = 512\n",
    "DEC_HID_DIM = 512\n",
    "ENC_DROPOUT = 0.5\n",
    "DEC_DROPOUT = 0.5\n",
    "SRC_PAD_IDX = SRC_TEXT.vocab.stoi[SRC_TEXT.pad_token]\n",
    "TRG_PAD_IDX = TRG_TEXT.vocab.stoi[TRG_TEXT.pad_token]\n",
    "BOS_IDX = SRC_TEXT.vocab.stoi[SRC_TEXT.init_token]\n",
    "EOS_IDX = SRC_TEXT.vocab.stoi[SRC_TEXT.eos_token]\n",
    "\n",
    "attn = Attention(ENC_HID_DIM, DEC_HID_DIM)\n",
    "enc = Encoder(INPUT_DIM, ENC_EMB_DIM, ENC_HID_DIM, DEC_HID_DIM, ENC_DROPOUT)\n",
    "dec = Decoder(OUTPUT_DIM, DEC_EMB_DIM, ENC_HID_DIM, DEC_HID_DIM, DEC_DROPOUT, attn)\n",
    "\n",
    "model = Seq2Seq(enc, dec, SRC_PAD_IDX, device).to(device)"
   ]
  },
  {
   "cell_type": "code",
   "execution_count": 20,
   "metadata": {},
   "outputs": [
    {
     "data": {
      "text/plain": [
       "Seq2Seq(\n",
       "  (encoder): Encoder(\n",
       "    (embedding): Embedding(10128, 256)\n",
       "    (rnn): GRU(256, 512, bidirectional=True)\n",
       "    (linear): Linear(in_features=1024, out_features=512, bias=True)\n",
       "    (dropout): Dropout(p=0.5, inplace=False)\n",
       "  )\n",
       "  (decoder): Decoder(\n",
       "    (attention): Attention(\n",
       "      (attn): Linear(in_features=1536, out_features=512, bias=True)\n",
       "    )\n",
       "    (embedding): Embedding(3743, 256)\n",
       "    (rnn): GRU(1280, 512)\n",
       "    (out): Linear(in_features=1792, out_features=3743, bias=True)\n",
       "    (dropout): Dropout(p=0.5, inplace=False)\n",
       "  )\n",
       ")"
      ]
     },
     "execution_count": 20,
     "metadata": {},
     "output_type": "execute_result"
    }
   ],
   "source": [
    "def init_weights(m):\n",
    "    for name, param in m.named_parameters():\n",
    "        if \"weight\" in name:\n",
    "            nn.init.normal_(param.data, mean=0, std=0.01)\n",
    "        else:\n",
    "            nn.init.constant_(param.data, 0)\n",
    "            \n",
    "model.apply(init_weights)"
   ]
  },
  {
   "cell_type": "code",
   "execution_count": 21,
   "metadata": {},
   "outputs": [
    {
     "name": "stdout",
     "output_type": "stream",
     "text": [
      "The model has 16,695,455 trainable parameters\n"
     ]
    }
   ],
   "source": [
    "def count_parameters(model):\n",
    "    return sum(p.numel() for p in model.parameters() if p.requires_grad)\n",
    "\n",
    "\n",
    "print(f\"The model has {count_parameters(model):,} trainable parameters\")"
   ]
  },
  {
   "cell_type": "code",
   "execution_count": 22,
   "metadata": {},
   "outputs": [],
   "source": [
    "optimizer = optim.Adam(model.parameters(), lr=1e-3, weight_decay=0)"
   ]
  },
  {
   "cell_type": "code",
   "execution_count": 23,
   "metadata": {},
   "outputs": [],
   "source": [
    "criterion = nn.CrossEntropyLoss(ignore_index=TRG_PAD_IDX)"
   ]
  },
  {
   "cell_type": "code",
   "execution_count": 24,
   "metadata": {},
   "outputs": [],
   "source": [
    "def train(\n",
    "    model: Seq2Seq,\n",
    "    iterator,\n",
    "    optimizer: optim.Optimizer,\n",
    "    criterion: nn.CrossEntropyLoss,\n",
    "    clip,\n",
    "):\n",
    "    model.train()\n",
    "    epoch_loss = 0\n",
    "    for batch in tqdm(iterator):\n",
    "        src, src_lengths = batch.source\n",
    "        trg = batch.target\n",
    "\n",
    "        optimizer.zero_grad()\n",
    "\n",
    "        # [trg len, batch size, output dim]\n",
    "        output = model(src, src_lengths, trg)\n",
    "\n",
    "        output_dim = output.size()[-1]\n",
    "\n",
    "        # [trg len * batch size, output dim]\n",
    "        output = output[1:].view(-1, output_dim)\n",
    "        # [trg len * batch size, output dim]\n",
    "        trg = trg[1:].view(-1)\n",
    "\n",
    "        loss = criterion(output, trg)\n",
    "        loss.backward()\n",
    "\n",
    "        torch.nn.utils.clip_grad_norm_(model.parameters(), clip)\n",
    "\n",
    "        optimizer.step()\n",
    "        epoch_loss += loss.item()\n",
    "\n",
    "    return epoch_loss / len(iterator)"
   ]
  },
  {
   "cell_type": "code",
   "execution_count": 25,
   "metadata": {},
   "outputs": [],
   "source": [
    "def evaluate(model, iterator, criterion):    \n",
    "    model.eval()\n",
    "    epoch_loss = 0\n",
    "    with torch.no_grad():\n",
    "        for i, batch in enumerate(iterator):\n",
    "            src, src_len = batch.src\n",
    "            trg = batch.trg\n",
    "\n",
    "            output = model(src, src_len, trg, 0)\n",
    "            \n",
    "            #trg = [trg len, batch size]\n",
    "            #output = [trg len, batch size, output dim]\n",
    "            output_dim = output.shape[-1]\n",
    "            \n",
    "            # [(trg len - 1) * batch size, output dim]\n",
    "            output = output[1:].view(-1, output_dim)\n",
    "            # [(trg len - 1) * batch size]\n",
    "            trg = trg[1:].view(-1)\n",
    "\n",
    "            loss = criterion(output, trg)\n",
    "\n",
    "            epoch_loss += loss.item()\n",
    "        \n",
    "    return epoch_loss / len(iterator)"
   ]
  },
  {
   "cell_type": "code",
   "execution_count": 26,
   "metadata": {},
   "outputs": [],
   "source": [
    "def epoch_time(start_time, end_time):\n",
    "    elapsed_time = end_time - start_time\n",
    "    elapsed_mins = int(elapsed_time / 60)\n",
    "    elapsed_secs = int(elapsed_time - (elapsed_mins * 60))\n",
    "    return elapsed_mins, elapsed_secs"
   ]
  },
  {
   "cell_type": "code",
   "execution_count": 27,
   "metadata": {},
   "outputs": [
    {
     "name": "stderr",
     "output_type": "stream",
     "text": [
      "  0%|          | 3/951 [00:07<43:05,  2.73s/it]"
     ]
    },
    {
     "ename": "KeyboardInterrupt",
     "evalue": "",
     "output_type": "error",
     "traceback": [
      "\u001b[0;31m---------------------------------------------------------------------------\u001b[0m",
      "\u001b[0;31mKeyboardInterrupt\u001b[0m                         Traceback (most recent call last)",
      "\u001b[0;32m<ipython-input-27-1e9cf261d823>\u001b[0m in \u001b[0;36m<module>\u001b[0;34m\u001b[0m\n\u001b[1;32m      8\u001b[0m     \u001b[0mstart_time\u001b[0m \u001b[0;34m=\u001b[0m \u001b[0mtime\u001b[0m\u001b[0;34m.\u001b[0m\u001b[0mtime\u001b[0m\u001b[0;34m(\u001b[0m\u001b[0;34m)\u001b[0m\u001b[0;34m\u001b[0m\u001b[0;34m\u001b[0m\u001b[0m\n\u001b[1;32m      9\u001b[0m \u001b[0;34m\u001b[0m\u001b[0m\n\u001b[0;32m---> 10\u001b[0;31m     \u001b[0mtrain_loss\u001b[0m \u001b[0;34m=\u001b[0m \u001b[0mtrain\u001b[0m\u001b[0;34m(\u001b[0m\u001b[0mmodel\u001b[0m\u001b[0;34m,\u001b[0m \u001b[0mtrain_iterator\u001b[0m\u001b[0;34m,\u001b[0m \u001b[0moptimizer\u001b[0m\u001b[0;34m,\u001b[0m \u001b[0mcriterion\u001b[0m\u001b[0;34m,\u001b[0m \u001b[0mCLIP\u001b[0m\u001b[0;34m)\u001b[0m\u001b[0;34m\u001b[0m\u001b[0;34m\u001b[0m\u001b[0m\n\u001b[0m\u001b[1;32m     11\u001b[0m     \u001b[0mvalid_loss\u001b[0m \u001b[0;34m=\u001b[0m \u001b[0mevaluate\u001b[0m\u001b[0;34m(\u001b[0m\u001b[0mmodel\u001b[0m\u001b[0;34m,\u001b[0m \u001b[0mvalid_iterator\u001b[0m\u001b[0;34m,\u001b[0m \u001b[0mcriterion\u001b[0m\u001b[0;34m)\u001b[0m\u001b[0;34m\u001b[0m\u001b[0;34m\u001b[0m\u001b[0m\n\u001b[1;32m     12\u001b[0m \u001b[0;34m\u001b[0m\u001b[0m\n",
      "\u001b[0;32m<ipython-input-24-a31e9b1dadb5>\u001b[0m in \u001b[0;36mtrain\u001b[0;34m(model, iterator, optimizer, criterion, clip)\u001b[0m\n\u001b[1;32m     25\u001b[0m \u001b[0;34m\u001b[0m\u001b[0m\n\u001b[1;32m     26\u001b[0m         \u001b[0mloss\u001b[0m \u001b[0;34m=\u001b[0m \u001b[0mcriterion\u001b[0m\u001b[0;34m(\u001b[0m\u001b[0moutput\u001b[0m\u001b[0;34m,\u001b[0m \u001b[0mtrg\u001b[0m\u001b[0;34m)\u001b[0m\u001b[0;34m\u001b[0m\u001b[0;34m\u001b[0m\u001b[0m\n\u001b[0;32m---> 27\u001b[0;31m         \u001b[0mloss\u001b[0m\u001b[0;34m.\u001b[0m\u001b[0mbackward\u001b[0m\u001b[0;34m(\u001b[0m\u001b[0;34m)\u001b[0m\u001b[0;34m\u001b[0m\u001b[0;34m\u001b[0m\u001b[0m\n\u001b[0m\u001b[1;32m     28\u001b[0m \u001b[0;34m\u001b[0m\u001b[0m\n\u001b[1;32m     29\u001b[0m         \u001b[0mtorch\u001b[0m\u001b[0;34m.\u001b[0m\u001b[0mnn\u001b[0m\u001b[0;34m.\u001b[0m\u001b[0mutils\u001b[0m\u001b[0;34m.\u001b[0m\u001b[0mclip_grad_norm_\u001b[0m\u001b[0;34m(\u001b[0m\u001b[0mmodel\u001b[0m\u001b[0;34m.\u001b[0m\u001b[0mparameters\u001b[0m\u001b[0;34m(\u001b[0m\u001b[0;34m)\u001b[0m\u001b[0;34m,\u001b[0m \u001b[0mclip\u001b[0m\u001b[0;34m)\u001b[0m\u001b[0;34m\u001b[0m\u001b[0;34m\u001b[0m\u001b[0m\n",
      "\u001b[0;32m/opt/conda/lib/python3.7/site-packages/torch/tensor.py\u001b[0m in \u001b[0;36mbackward\u001b[0;34m(self, gradient, retain_graph, create_graph)\u001b[0m\n\u001b[1;32m    148\u001b[0m                 \u001b[0mproducts\u001b[0m\u001b[0;34m.\u001b[0m \u001b[0mDefaults\u001b[0m \u001b[0mto\u001b[0m\u001b[0;31m \u001b[0m\u001b[0;31m`\u001b[0m\u001b[0;31m`\u001b[0m\u001b[0;32mFalse\u001b[0m\u001b[0;31m`\u001b[0m\u001b[0;31m`\u001b[0m\u001b[0;34m.\u001b[0m\u001b[0;34m\u001b[0m\u001b[0;34m\u001b[0m\u001b[0m\n\u001b[1;32m    149\u001b[0m         \"\"\"\n\u001b[0;32m--> 150\u001b[0;31m         \u001b[0mtorch\u001b[0m\u001b[0;34m.\u001b[0m\u001b[0mautograd\u001b[0m\u001b[0;34m.\u001b[0m\u001b[0mbackward\u001b[0m\u001b[0;34m(\u001b[0m\u001b[0mself\u001b[0m\u001b[0;34m,\u001b[0m \u001b[0mgradient\u001b[0m\u001b[0;34m,\u001b[0m \u001b[0mretain_graph\u001b[0m\u001b[0;34m,\u001b[0m \u001b[0mcreate_graph\u001b[0m\u001b[0;34m)\u001b[0m\u001b[0;34m\u001b[0m\u001b[0;34m\u001b[0m\u001b[0m\n\u001b[0m\u001b[1;32m    151\u001b[0m \u001b[0;34m\u001b[0m\u001b[0m\n\u001b[1;32m    152\u001b[0m     \u001b[0;32mdef\u001b[0m \u001b[0mregister_hook\u001b[0m\u001b[0;34m(\u001b[0m\u001b[0mself\u001b[0m\u001b[0;34m,\u001b[0m \u001b[0mhook\u001b[0m\u001b[0;34m)\u001b[0m\u001b[0;34m:\u001b[0m\u001b[0;34m\u001b[0m\u001b[0;34m\u001b[0m\u001b[0m\n",
      "\u001b[0;32m/opt/conda/lib/python3.7/site-packages/torch/autograd/__init__.py\u001b[0m in \u001b[0;36mbackward\u001b[0;34m(tensors, grad_tensors, retain_graph, create_graph, grad_variables)\u001b[0m\n\u001b[1;32m     97\u001b[0m     Variable._execution_engine.run_backward(\n\u001b[1;32m     98\u001b[0m         \u001b[0mtensors\u001b[0m\u001b[0;34m,\u001b[0m \u001b[0mgrad_tensors\u001b[0m\u001b[0;34m,\u001b[0m \u001b[0mretain_graph\u001b[0m\u001b[0;34m,\u001b[0m \u001b[0mcreate_graph\u001b[0m\u001b[0;34m,\u001b[0m\u001b[0;34m\u001b[0m\u001b[0;34m\u001b[0m\u001b[0m\n\u001b[0;32m---> 99\u001b[0;31m         allow_unreachable=True)  # allow_unreachable flag\n\u001b[0m\u001b[1;32m    100\u001b[0m \u001b[0;34m\u001b[0m\u001b[0m\n\u001b[1;32m    101\u001b[0m \u001b[0;34m\u001b[0m\u001b[0m\n",
      "\u001b[0;31mKeyboardInterrupt\u001b[0m: "
     ]
    }
   ],
   "source": [
    "N_EPOCHS = 10\n",
    "CLIP = 1\n",
    "\n",
    "best_valid_loss = float('inf')\n",
    "\n",
    "for epoch in range(N_EPOCHS):\n",
    "    \n",
    "    start_time = time.time()\n",
    "    \n",
    "    train_loss = train(model, train_iterator, optimizer, criterion, CLIP)\n",
    "    valid_loss = evaluate(model, valid_iterator, criterion)\n",
    "    \n",
    "    end_time = time.time()\n",
    "    \n",
    "    epoch_mins, epoch_secs = epoch_time(start_time, end_time)\n",
    "    \n",
    "    if valid_loss < best_valid_loss:\n",
    "        best_valid_loss = valid_loss\n",
    "        torch.save(model.state_dict(), 'code-model.pt')\n",
    "    \n",
    "    print(f'Epoch: {epoch+1:02} | Time: {epoch_mins}m {epoch_secs}s')\n",
    "    print(f'\\tTrain Loss: {train_loss:.3f} | Train PPL: {math.exp(train_loss):7.3f}')\n",
    "    print(f'\\t Val. Loss: {valid_loss:.3f} |  Val. PPL: {math.exp(valid_loss):7.3f}')"
   ]
  },
  {
   "cell_type": "code",
   "execution_count": null,
   "metadata": {},
   "outputs": [],
   "source": []
  },
  {
   "cell_type": "code",
   "execution_count": 29,
   "metadata": {},
   "outputs": [],
   "source": [
    "src_data = next(iter(train_iterator))\n",
    "src = src_data.source\n",
    "trg = src_data.target"
   ]
  },
  {
   "cell_type": "code",
   "execution_count": null,
   "metadata": {},
   "outputs": [],
   "source": [
    "\n",
    "\n",
    "\n",
    "    "
   ]
  },
  {
   "cell_type": "code",
   "execution_count": null,
   "metadata": {},
   "outputs": [],
   "source": [
    "symbs = TextPreprocessor().symbols\n",
    "src_vocab = Vocab(symbs, model_path=\"/workspace/diffs.model\")\n",
    "trg_vocab = Vocab(symbs, model_path=\"/workspace/messages.model\")\n",
    "tokenizer = base_tokenizer(src_vocab, trg_vocab)"
   ]
  },
  {
   "cell_type": "code",
   "execution_count": null,
   "metadata": {},
   "outputs": [],
   "source": [
    "def numericalize_source_sents(\n",
    "    sentences: typing.List[str], \n",
    "    bos_idx: int, \n",
    "    eos_idx: int, \n",
    "    pad_idx: int, \n",
    "    device: torch.device\n",
    ") -> torch.Tensor:\n",
    "    sents_tokens = [tokenizer.tokenize_source_as_ids(sent) for sent in sentences]\n",
    "    max_length = len(sorted(sents_tokens, key=lambda x: len(x), reverse=True)[0])\n",
    "    sents_var = torch.tensor([pad_idx]).repeat([len(sentences), max_length + 2])\n",
    "    sents_lengths = torch.zeros(len(sentences))\n",
    "    for idx, sent_ids in enumerate(sents_tokens):\n",
    "        sents_var[idx, :len(sent_ids) + 2] = torch.tensor([bos_idx] + sent_ids + [eos_idx])\n",
    "        sents_lengths[idx] = len(sent_ids) + 2\n",
    "    return sents_var.to(device), sents_lengths.to(device)"
   ]
  },
  {
   "cell_type": "code",
   "execution_count": null,
   "metadata": {},
   "outputs": [],
   "source": [
    "sents = [\"def say_helo(): print()\"]\n",
    "\n",
    "numericalize_source_sents(\n",
    "    sentences=sents, \n",
    "    bos_idx=BOS_IDX, \n",
    "    eos_idx=EOS_IDX, \n",
    "    pad_idx=SRC_PAD_IDX, \n",
    "    device=device\n",
    ")"
   ]
  },
  {
   "cell_type": "code",
   "execution_count": null,
   "metadata": {},
   "outputs": [],
   "source": []
  }
 ],
 "metadata": {
  "kernelspec": {
   "display_name": "Python 3",
   "language": "python",
   "name": "python3"
  },
  "language_info": {
   "codemirror_mode": {
    "name": "ipython",
    "version": 3
   },
   "file_extension": ".py",
   "mimetype": "text/x-python",
   "name": "python",
   "nbconvert_exporter": "python",
   "pygments_lexer": "ipython3",
   "version": "3.7.0"
  }
 },
 "nbformat": 4,
 "nbformat_minor": 2
}
