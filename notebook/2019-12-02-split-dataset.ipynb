{
 "cells": [
  {
   "cell_type": "code",
   "execution_count": 16,
   "metadata": {},
   "outputs": [],
   "source": [
    "import torch\n",
    "import torch.nn as nn\n",
    "import torch.nn.functional as F\n",
    "import torch.optim as optim\n",
    "import torchtext\n",
    "import torchtext.data as data\n",
    "from torchtext.data import Field, BucketIterator\n",
    "import os\n",
    "import typing"
   ]
  },
  {
   "cell_type": "code",
   "execution_count": 17,
   "metadata": {},
   "outputs": [],
   "source": [
    "MAX_LEN = 1000"
   ]
  },
  {
   "cell_type": "code",
   "execution_count": 18,
   "metadata": {},
   "outputs": [],
   "source": [
    "SRC_TEXT = Field(init_token=\"<s>\", eos_token=\"</s>\", include_lengths=True)\n",
    "TRG_TEXT = Field(init_token=\"<s>\", eos_token=\"</s>\")"
   ]
  },
  {
   "cell_type": "code",
   "execution_count": 19,
   "metadata": {},
   "outputs": [],
   "source": [
    "data_fields = [(\"source\", SRC_TEXT), (\"target\", TRG_TEXT)]\n",
    "\n",
    "def filter_pred(x: str) -> bool: \n",
    "    return len(x.source) <= MAX_LEN and len(x.target) <= MAX_LEN\n",
    "\n",
    "dataset = torchtext.datasets.TranslationDataset(\n",
    "    path=\"/workspace/tmp/dataset_10k.bpe/train\", \n",
    "    exts=(\".diff\", \".msg\"), \n",
    "    fields=data_fields,\n",
    "    filter_pred=filter_pred\n",
    ")"
   ]
  },
  {
   "cell_type": "code",
   "execution_count": 20,
   "metadata": {},
   "outputs": [],
   "source": [
    "dataset = torchtext.data.Dataset(examples=dataset[:10_000], fields=data_fields, filter_pred=filter_pred)"
   ]
  },
  {
   "cell_type": "code",
   "execution_count": 21,
   "metadata": {},
   "outputs": [],
   "source": [
    "train_data, test_data, valid_data = dataset.split(split_ratio=[0.8, 0.15, 0.05])"
   ]
  },
  {
   "cell_type": "code",
   "execution_count": 22,
   "metadata": {},
   "outputs": [],
   "source": [
    "def save_dataset(\n",
    "    dataset: torchtext.data.Dataset, \n",
    "    filename: str, \n",
    "    exts: typing.Tuple[str, str]\n",
    "):\n",
    "    if os.path.exists(filename):\n",
    "        os.remove(filename)\n",
    "    os.makedirs(os.path.dirname(filename), \n",
    "                exist_ok=True)\n",
    "    \n",
    "    source_filename = filename + f\".{exts[0]}\"\n",
    "    target_filename = filename + f\".{exts[1]}\"\n",
    "    \n",
    "    with open(source_filename, mode=\"w\") as source, open(target_filename, mode=\"w\") as target:\n",
    "        for i, example in enumerate(dataset.examples):\n",
    "            source_sent = example.source\n",
    "            target_sent = example.target\n",
    "            source.write(\" \".join(source_sent) + \"\\n\")\n",
    "            target.write(\" \".join(target_sent) + \"\\n\")"
   ]
  },
  {
   "cell_type": "code",
   "execution_count": 23,
   "metadata": {},
   "outputs": [],
   "source": [
    "save_dataset(train_data, \"/workspace/tmp/dataset_10k.bpe/prepared/train\", (\"diff\", \"msg\"))"
   ]
  },
  {
   "cell_type": "code",
   "execution_count": 24,
   "metadata": {},
   "outputs": [],
   "source": [
    "save_dataset(valid_data, \"/workspace/tmp/dataset_10k.bpe/prepared/valid\", (\"diff\", \"msg\"))"
   ]
  },
  {
   "cell_type": "code",
   "execution_count": 25,
   "metadata": {},
   "outputs": [],
   "source": [
    "save_dataset(test_data, \"/workspace/tmp/dataset_10k.bpe/prepared/test\", (\"diff\", \"msg\"))"
   ]
  },
  {
   "cell_type": "code",
   "execution_count": 26,
   "metadata": {},
   "outputs": [
    {
     "data": {
      "text/plain": [
       "492"
      ]
     },
     "execution_count": 26,
     "metadata": {},
     "output_type": "execute_result"
    }
   ],
   "source": [
    "len(\"▁ <file> ▁readme . md ▁ <chunk> ▁ <nl> ▁flex x ▁ <nl> ▁= ==== ▁ <nl> ▁ <nl> ▁ <del> ▁flex x ▁is ▁a ▁python ▁to ok it ▁for ▁creating ▁graph ical ▁user ▁inter faces ▁( gui ' s ), ▁ <nl> ▁ <del> ▁that ▁uses ▁web ▁tech nolog y ▁for ▁its ▁rendering . ▁you ▁can ▁use ▁flex x ▁to ▁create ▁ <nl> ▁ <del> ▁de sktop ▁applications ▁as ▁well ▁as ▁web ▁applications . ▁flex x ▁can ▁also ▁be ▁ <nl> ▁ <del> ▁used ▁from ▁within ▁the ▁jupyter ▁notebook . ▁ <nl> ▁ <del> ▁ <nl> ▁ <del> ▁flex x ▁is ▁p ure ▁python , ▁and ▁has ▁no ▁dependencies ▁other ▁than ▁the ▁browser ▁ <nl> ▁ <del> ▁that ' s ▁already ▁installed ▁on ▁the ▁system . ▁to ▁run ▁apps ▁in ▁de sktop - mode , ▁ <nl> ▁ <del> ▁we ▁recommend ▁having ▁fi re fo x ▁installed . ▁ <nl> ▁ <add> ▁flex x ▁is ▁a ▁cross - platform , ▁p ure ▁python ▁to ok it ▁for ▁creating ▁graph ical ▁ <nl> ▁ <add> ▁user ▁inter faces ▁( gui ' s ), ▁that ▁uses ▁web ▁tech nolog y ▁for ▁its ▁rendering . ▁ <nl> ▁ <add> ▁you ▁can ▁use ▁flex x ▁to ▁create ▁de sktop ▁applications ▁as ▁well ▁as ▁web ▁ <nl> ▁ <add> ▁applications . ▁ <nl> ▁ <add> ▁ <nl> ▁ <add> ▁flex x ▁can ▁also ▁be ▁used ▁to ▁run ▁a ▁sub set ▁of ▁python ▁in ▁a ▁web ▁runtime ▁( e . g . ▁ <nl> ▁ <add> ▁node js ), ▁and ▁can ▁be ▁used ▁from ▁within ▁the ▁jupyter ▁notebook . ▁ <nl> ▁ <add> ▁ <nl> ▁ <add> ▁flex x ▁is ▁p ure ▁python , ▁and ▁its ▁only ▁dependencies ▁are ▁tornado ▁and ▁a ▁ <nl> ▁ <add> ▁browser . ▁to ▁run ▁apps ▁in ▁de sktop - mode , ▁we ▁recommend ▁having ▁fi re fo x ▁ <nl> ▁ <add> ▁installed . ▁ <nl> ▁ <nl> ▁flex x ▁consist s ▁of ▁several ▁modules ▁which ▁can ▁be ▁in divid ually ▁used ; ▁none ▁ <nl> ▁of ▁the ▁modules ▁are ▁imported ▁by ▁default . ▁ <nl> ▁ <file> ▁start . rst ▁ <chunk> ▁getting ▁started ▁ <nl> ▁dependencies ▁ <nl> ▁------------ ▁ <nl> ▁ <nl> ▁ <del> ▁flex x ▁has ▁no ▁dependencies . ▁to ▁use ▁`` flex x . ui `` ▁you ▁need ▁a ▁browser . ▁to ▁ <nl> ▁ <del> ▁run ▁apps ▁that ▁look ▁like ▁de sktop ▁apps , ▁we ▁recommend ▁having ▁fi re fo x ▁ <nl> ▁ <del> ▁installed . ▁ <nl> ▁ <add> ▁the ▁only ▁dependency ▁of ▁flex x ▁is ▁tornado ▁( a ▁p ure ▁python ▁package ). ▁to ▁use ▁ <nl> ▁ <add> ▁`` flex x . ui `` ▁you ▁need ▁a ▁browser . ▁to ▁run ▁apps ▁that ▁look ▁like ▁de sktop ▁ <nl> ▁ <add> ▁apps , ▁we ▁recommend ▁having ▁fi re fo x ▁installed . ▁ <nl> ▁ <nl> ▁developers ▁that ▁want ▁to ▁run ▁the ▁tests ▁need : ▁ <nl> ▁ <nl> ▁ <nl>\".split(\" \"))"
   ]
  },
  {
   "cell_type": "code",
   "execution_count": null,
   "metadata": {},
   "outputs": [],
   "source": []
  }
 ],
 "metadata": {
  "kernelspec": {
   "display_name": "Python 3",
   "language": "python",
   "name": "python3"
  },
  "language_info": {
   "codemirror_mode": {
    "name": "ipython",
    "version": 3
   },
   "file_extension": ".py",
   "mimetype": "text/x-python",
   "name": "python",
   "nbconvert_exporter": "python",
   "pygments_lexer": "ipython3",
   "version": "3.7.4"
  }
 },
 "nbformat": 4,
 "nbformat_minor": 2
}
