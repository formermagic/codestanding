{
 "cells": [
  {
   "cell_type": "code",
   "execution_count": 6,
   "metadata": {},
   "outputs": [
    {
     "name": "stdout",
     "output_type": "stream",
     "text": [
      "Requirement already satisfied: tree_sitter in /opt/conda/lib/python3.7/site-packages (0.1.0)\n",
      "Cloning into '/workspace/tmp/code2ast-nmt/tree-sitter-python'...\n",
      "remote: Enumerating objects: 40, done.\u001b[K\n",
      "remote: Counting objects: 100% (40/40), done.\u001b[K\n",
      "remote: Compressing objects: 100% (31/31), done.\u001b[K\n",
      "remote: Total 1989 (delta 15), reused 26 (delta 7), pack-reused 1949\u001b[K\n",
      "Receiving objects: 100% (1989/1989), 17.50 MiB | 1.64 MiB/s, done.\n",
      "Resolving deltas: 100% (1271/1271), done.\n"
     ]
    }
   ],
   "source": [
    "!pip install tree_sitter\n",
    "!git clone https://github.com/tree-sitter/tree-sitter-python /workspace/tmp/code2ast-nmt/tree-sitter-python"
   ]
  },
  {
   "cell_type": "code",
   "execution_count": 2,
   "metadata": {},
   "outputs": [],
   "source": [
    "from tree_sitter import Language, Parser, Node, TreeCursor\n",
    "from collections import deque\n",
    "\n",
    "import typing"
   ]
  },
  {
   "cell_type": "code",
   "execution_count": 3,
   "metadata": {},
   "outputs": [],
   "source": [
    "def find_substring_node(\n",
    "    program_lines: typing.List[str], \n",
    "    node: Node\n",
    ") -> str:\n",
    "    start = node.start_point\n",
    "    end = node.end_point\n",
    "    return find_substring(program_lines, start, end)\n",
    "\n",
    "def find_substring(\n",
    "    program_lines: typing.List[str], \n",
    "    start: typing.Tuple[int, int], \n",
    "    end: typing.Tuple[int, int]\n",
    ") -> str:\n",
    "    lines: typing.List[str] = []\n",
    "        \n",
    "    for idx in range(start[0], end[0] + 1):\n",
    "        _start = 0\n",
    "        _end = len(program_lines[idx])\n",
    "        \n",
    "        if idx == start[0]:\n",
    "            _start = start[1]\n",
    "        if idx == end[0]:\n",
    "            _end = end[1]\n",
    "        \n",
    "        lines.append(program_lines[idx][_start:_end])\n",
    "        \n",
    "    return lines\n",
    "\n",
    "\n",
    "def traverse_deque(node: Node) -> Node:\n",
    "    d = deque(node.children)\n",
    "    while d:\n",
    "        n = d.popleft()\n",
    "        # d.extend(n.children)\n",
    "        if n.is_named: \n",
    "            d.extendleft(n.children[::-1])\n",
    "            yield n"
   ]
  },
  {
   "cell_type": "code",
   "execution_count": 4,
   "metadata": {},
   "outputs": [
    {
     "data": {
      "text/plain": [
       "False"
      ]
     },
     "execution_count": 4,
     "metadata": {},
     "output_type": "execute_result"
    }
   ],
   "source": [
    "Language.build_library(\n",
    "  output_path=\"/workspace/tmp/code2ast-nmt/build/my-languages.so\",\n",
    "  repo_paths=[\n",
    "    \"/workspace/tmp/code2ast-nmt/tree-sitter-python\"\n",
    "  ]\n",
    ")"
   ]
  },
  {
   "cell_type": "code",
   "execution_count": 5,
   "metadata": {},
   "outputs": [],
   "source": [
    "PY_LANGUAGE = Language(\"/workspace/tmp/code2ast-nmt/build/my-languages.so\", \"python\")"
   ]
  },
  {
   "cell_type": "code",
   "execution_count": 6,
   "metadata": {},
   "outputs": [],
   "source": [
    "parser = Parser()\n",
    "parser.set_language(PY_LANGUAGE)"
   ]
  },
  {
   "cell_type": "code",
   "execution_count": 7,
   "metadata": {},
   "outputs": [],
   "source": [
    "program = \"\"\"\\\n",
    "def hello_world(name: str) -> None:\n",
    "    print(f\"Hello World by {name}!\")\\\n",
    "\"\"\"\n",
    "\n",
    "program_lines = program.split(\"\\n\")\n",
    "tree = parser.parse(bytes(program, \"utf8\"))"
   ]
  },
  {
   "cell_type": "code",
   "execution_count": 209,
   "metadata": {},
   "outputs": [
    {
     "data": {
      "text/plain": [
       "['def hello_world(name: str) -> None:', '    print(f\"Hello World by {name}!\")']"
      ]
     },
     "execution_count": 209,
     "metadata": {},
     "output_type": "execute_result"
    }
   ],
   "source": [
    "program_lines"
   ]
  },
  {
   "cell_type": "code",
   "execution_count": 8,
   "metadata": {},
   "outputs": [],
   "source": [
    "def exec2():\n",
    "    r = \"\"\n",
    "    for x in traverse_deque(tree.root_node):\n",
    "        if x.type == \"identifier\":\n",
    "            r += \"\".join(find_substring_node(program_lines, x)) + \" \"\n",
    "        else:\n",
    "            r += str(x.type) + \" \"\n",
    "    return r"
   ]
  },
  {
   "cell_type": "code",
   "execution_count": 9,
   "metadata": {},
   "outputs": [
    {
     "name": "stdout",
     "output_type": "stream",
     "text": [
      "CPU times: user 0 ns, sys: 0 ns, total: 0 ns\n",
      "Wall time: 151 µs\n"
     ]
    },
    {
     "data": {
      "text/plain": [
       "'function_definition hello_world parameters typed_parameter name type str type none block expression_statement call print argument_list string interpolation name '"
      ]
     },
     "execution_count": 9,
     "metadata": {},
     "output_type": "execute_result"
    }
   ],
   "source": [
    "%%time\n",
    "exec2()"
   ]
  },
  {
   "cell_type": "code",
   "execution_count": null,
   "metadata": {},
   "outputs": [],
   "source": []
  }
 ],
 "metadata": {
  "kernelspec": {
   "display_name": "Python 3",
   "language": "python",
   "name": "python3"
  },
  "language_info": {
   "codemirror_mode": {
    "name": "ipython",
    "version": 3
   },
   "file_extension": ".py",
   "mimetype": "text/x-python",
   "name": "python",
   "nbconvert_exporter": "python",
   "pygments_lexer": "ipython3",
   "version": "3.7.4"
  }
 },
 "nbformat": 4,
 "nbformat_minor": 2
}
