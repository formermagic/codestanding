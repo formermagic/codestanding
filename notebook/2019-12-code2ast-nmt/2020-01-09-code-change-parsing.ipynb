{
 "cells": [
  {
   "cell_type": "code",
   "execution_count": 1,
   "metadata": {},
   "outputs": [],
   "source": [
    "from pydriller import RepositoryMining"
   ]
  },
  {
   "cell_type": "code",
   "execution_count": null,
   "metadata": {},
   "outputs": [],
   "source": [
    "seen = 0\n",
    "for commit in RepositoryMining(\"/workspace/tmp/ast_test/repositories/tensorflow@models/\").traverse_commits():\n",
    "    if seen >= 3:\n",
    "        break\n",
    "    \n",
    "    print(f\"commit #{seen + 1}, \\nmessage: {commit.msg}\")\n",
    "    for mod in commit.modifications:\n",
    "        print(f\"__Before__: \\n{mod.source_code_before}\")\n",
    "        print(f\"__After__: \\n{mod.source_code}\")\n",
    "        print(mod.diff)\n",
    "        print()\n",
    "        \n",
    "    seen += 1"
   ]
  },
  {
   "cell_type": "code",
   "execution_count": null,
   "metadata": {},
   "outputs": [],
   "source": []
  }
 ],
 "metadata": {
  "kernelspec": {
   "display_name": "Python 3",
   "language": "python",
   "name": "python3"
  },
  "language_info": {
   "codemirror_mode": {
    "name": "ipython",
    "version": 3
   },
   "file_extension": ".py",
   "mimetype": "text/x-python",
   "name": "python",
   "nbconvert_exporter": "python",
   "pygments_lexer": "ipython3",
   "version": "3.7.4"
  }
 },
 "nbformat": 4,
 "nbformat_minor": 4
}
