{
 "cells": [
  {
   "cell_type": "code",
   "execution_count": 1,
   "metadata": {},
   "outputs": [],
   "source": [
    "import sys\n",
    "sys.path.append(\"/workspace/\")"
   ]
  },
  {
   "cell_type": "code",
   "execution_count": 2,
   "metadata": {},
   "outputs": [],
   "source": [
    "from src.ast_parser import ASTParser, LanguageRepr"
   ]
  },
  {
   "cell_type": "code",
   "execution_count": 3,
   "metadata": {},
   "outputs": [],
   "source": [
    "lang_repr = LanguageRepr(\n",
    "    library_path=\"/workspace/tmp/ast_test/my-languages.so\", lang=\"python\"\n",
    ")\n",
    "\n",
    "parser = ASTParser(lang_repr)"
   ]
  },
  {
   "cell_type": "code",
   "execution_count": 4,
   "metadata": {},
   "outputs": [],
   "source": [
    "program = \"\"\"\\\n",
    "class ASTParser:\n",
    "    def __init__(self, language_repr: LanguageRepr):\n",
    "        self.__language_repr = language_repr\n",
    "        self.parser = language_repr.parser\n",
    "\n",
    "    def parse_program(\n",
    "        self, program: str\n",
    "    ) -> typing.List[typing.Tuple[str, str]]:\n",
    "        tree = self.parser.parse(bytes(program, \"utf8\"))\n",
    "        root_node = TreeNode(tree.root_node)\n",
    "\n",
    "        program_lines = program.split(\"\\n\")\n",
    "        src_lines: typing.List[str] = []\n",
    "        ast_lines: typing.List[str] = []\n",
    "\n",
    "        for node in self.traverse_tree(root_node):\n",
    "            if (\n",
    "                node.type == \"class_definition\"\n",
    "                or node.type == \"function_definition\"\n",
    "            ):\n",
    "                src, ast = self.__parse_def(node, program_lines)\n",
    "                src_lines.append(src)\n",
    "                ast_lines.append(ast)\n",
    "            elif node.type == \"decorated_definition\":\n",
    "                src, ast = self.__parse_decorated_def(node, program_lines)\n",
    "                src_lines.append(src)\n",
    "                ast_lines.append(ast)\n",
    "\n",
    "            if \"statement\" in node.type or \"definition\" in node.type:\n",
    "                src_lines.append(self.find_substring(program_lines, node))\n",
    "                ast_lines.append(self.parse_node(node, program_lines))\n",
    "                print(f\"NodeType: {node.type}\")\n",
    "\n",
    "        return list(zip(src_lines, ast_lines))\n",
    "\n",
    "    def parse_root_children(\n",
    "        self, program: str\n",
    "    ) -> typing.List[typing.Tuple[str, str]]:\n",
    "        tree = self.parser.parse(bytes(program, \"utf8\"))\n",
    "        program_lines = program.split(\"\\n\")\n",
    "\n",
    "        raw_bodies: typing.List[str] = []\n",
    "        parsed_children: typing.List[str] = []\n",
    "\n",
    "        children = deque([TreeNode(node) for node in tree.root_node.children])\n",
    "\n",
    "        while children:\n",
    "            root_child = children.popleft()\n",
    "            if root_child.type == \"class_definition\":\n",
    "                block_node = root_child.children[-1].node\n",
    "                for node in block_node.children[::-1]:\n",
    "                    children.appendleft(TreeNode(node))\n",
    "\n",
    "                source_code, parsed_ast = self.__parse_def(\n",
    "                    root_child, program_lines\n",
    "                )\n",
    "\n",
    "                raw_bodies.append(source_code)\n",
    "                parsed_children.append(parsed_ast)\n",
    "            elif root_child.type == \"function_definition\":\n",
    "                source_code, parsed_ast = self.__parse_def(\n",
    "                    root_child, program_lines\n",
    "                )\n",
    "\n",
    "                raw_bodies.append(source_code)\n",
    "                parsed_children.append(parsed_ast)\n",
    "            elif root_child.type == \"decorated_definition\":\n",
    "                for node in root_child.children[::-1]:\n",
    "                    children.appendleft(TreeNode(node))\n",
    "\n",
    "            raw_bodies.append(self.find_substring(program_lines, root_child))\n",
    "            parsed_children.append(self.parse_node(root_child, program_lines))\n",
    "\n",
    "        return list(zip(raw_bodies, parsed_children))\\\n",
    "\"\"\""
   ]
  },
  {
   "cell_type": "code",
   "execution_count": 6,
   "metadata": {},
   "outputs": [
    {
     "data": {
      "text/plain": [
       "50"
      ]
     },
     "execution_count": 6,
     "metadata": {},
     "output_type": "execute_result"
    }
   ],
   "source": [
    "len(parser.parse_program(program))"
   ]
  },
  {
   "cell_type": "code",
   "execution_count": 7,
   "metadata": {},
   "outputs": [
    {
     "data": {
      "text/plain": [
       "8"
      ]
     },
     "execution_count": 7,
     "metadata": {},
     "output_type": "execute_result"
    }
   ],
   "source": [
    "len(parser.parse_root_children(program))\n"
   ]
  },
  {
   "cell_type": "code",
   "execution_count": null,
   "metadata": {},
   "outputs": [],
   "source": []
  }
 ],
 "metadata": {
  "kernelspec": {
   "display_name": "Python 3",
   "language": "python",
   "name": "python3"
  },
  "language_info": {
   "codemirror_mode": {
    "name": "ipython",
    "version": 3
   },
   "file_extension": ".py",
   "mimetype": "text/x-python",
   "name": "python",
   "nbconvert_exporter": "python",
   "pygments_lexer": "ipython3",
   "version": "3.7.4"
  }
 },
 "nbformat": 4,
 "nbformat_minor": 4
}
