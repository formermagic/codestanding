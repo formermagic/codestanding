{
 "cells": [
  {
   "cell_type": "code",
   "execution_count": 3,
   "metadata": {},
   "outputs": [
    {
     "name": "stdout",
     "output_type": "stream",
     "text": [
      "Get:1 http://security.debian.org/debian-security buster/updates InRelease [65.4 kB]\n",
      "Hit:2 http://deb.debian.org/debian buster InRelease      \n",
      "Get:3 http://deb.debian.org/debian buster-updates InRelease [49.3 kB]\n",
      "Get:4 http://security.debian.org/debian-security buster/updates/main amd64 Packages [168 kB]\n",
      "Fetched 282 kB in 0s (595 kB/s)    \n",
      "Reading package lists... Done\n",
      "Reading package lists... Done\n",
      "Building dependency tree       \n",
      "Reading state information... Done\n",
      "build-essential is already the newest version (12.6).\n",
      "0 upgraded, 0 newly installed, 0 to remove and 23 not upgraded.\n",
      "Requirement already satisfied: fairseq in /opt/conda/lib/python3.7/site-packages (0.9.0)\n",
      "Requirement already satisfied: sentencepiece in /opt/conda/lib/python3.7/site-packages (0.1.85)\n",
      "Requirement already satisfied: regex in /opt/conda/lib/python3.7/site-packages (from fairseq) (2019.12.19)\n",
      "Requirement already satisfied: cython in /opt/conda/lib/python3.7/site-packages (from fairseq) (0.29.14)\n",
      "Requirement already satisfied: sacrebleu in /opt/conda/lib/python3.7/site-packages (from fairseq) (1.4.3)\n",
      "Requirement already satisfied: torch in /opt/conda/lib/python3.7/site-packages (from fairseq) (1.3.0+cpu)\n",
      "Requirement already satisfied: tqdm in /opt/conda/lib/python3.7/site-packages (from fairseq) (4.36.1)\n",
      "Requirement already satisfied: numpy in /opt/conda/lib/python3.7/site-packages (from fairseq) (1.17.4)\n",
      "Requirement already satisfied: cffi in /opt/conda/lib/python3.7/site-packages (from fairseq) (1.12.3)\n",
      "Requirement already satisfied: portalocker in /opt/conda/lib/python3.7/site-packages (from sacrebleu->fairseq) (1.5.2)\n",
      "Requirement already satisfied: typing in /opt/conda/lib/python3.7/site-packages (from sacrebleu->fairseq) (3.7.4.1)\n",
      "Requirement already satisfied: pycparser in /opt/conda/lib/python3.7/site-packages (from cffi->fairseq) (2.19)\n"
     ]
    }
   ],
   "source": [
    "!apt-get update \\\n",
    "    && apt-get -y install build-essential \\\n",
    "    && pip install fairseq sentencepiece"
   ]
  },
  {
   "cell_type": "code",
   "execution_count": 5,
   "metadata": {},
   "outputs": [],
   "source": [
    "import os"
   ]
  },
  {
   "cell_type": "code",
   "execution_count": 17,
   "metadata": {},
   "outputs": [],
   "source": [
    "dataset_path = \"/workspace/tmp/ast_test/code2ast_bpe_split\"\n",
    "train_pref = os.path.join(dataset_path, \"train\")\n",
    "valid_pref = os.path.join(dataset_path, \"valid\")\n",
    "test_pref = os.path.join(dataset_path, \"test\")\n",
    "dest_path = \"/workspace/tmp/ast_test/dataset_code2ast_bpe_lowercase_parenthesis.src-ast\""
   ]
  },
  {
   "cell_type": "code",
   "execution_count": 18,
   "metadata": {},
   "outputs": [
    {
     "name": "stdout",
     "output_type": "stream",
     "text": [
      "Namespace(align_suffix=None, alignfile=None, bpe='sentencepiece', cpu=False, criterion='cross_entropy', dataset_impl='mmap', destdir='/workspace/tmp/ast_test/dataset_code2ast_bpe_lowercase_parenthesis.src-ast', empty_cache_freq=0, fp16=False, fp16_init_scale=128, fp16_scale_tolerance=0.0, fp16_scale_window=None, joined_dictionary=False, log_format=None, log_interval=1000, lr_scheduler='fixed', memory_efficient_fp16=False, min_loss_scale=0.0001, no_progress_bar=False, nwordssrc=32000, nwordstgt=32000, only_source=False, optimizer='nag', padding_factor=8, seed=1, source_lang='src', srcdict=None, target_lang='ast', task='translation', tensorboard_logdir='', testpref='/workspace/tmp/ast_test/code2ast_bpe_split/test', tgtdict=None, threshold_loss_scale=None, thresholdsrc=0, thresholdtgt=0, tokenizer=None, trainpref='/workspace/tmp/ast_test/code2ast_bpe_split/train', user_dir=None, validpref='/workspace/tmp/ast_test/code2ast_bpe_split/valid', workers=60)\n",
      "| [src] Dictionary: 4039 types\n",
      "| [src] /workspace/tmp/ast_test/code2ast_bpe_split/train.src: 8408 sents, 279154 tokens, 0.0% replaced by <unk>\n",
      "| [src] Dictionary: 4039 types\n",
      "| [src] /workspace/tmp/ast_test/code2ast_bpe_split/valid.src: 1576 sents, 51832 tokens, 0.295% replaced by <unk>\n",
      "| [src] Dictionary: 4039 types\n",
      "| [src] /workspace/tmp/ast_test/code2ast_bpe_split/test.src: 526 sents, 17828 tokens, 0.185% replaced by <unk>\n",
      "| [ast] Dictionary: 1511 types\n",
      "| [ast] /workspace/tmp/ast_test/code2ast_bpe_split/train.ast: 8408 sents, 507036 tokens, 0.0% replaced by <unk>\n",
      "| [ast] Dictionary: 1511 types\n",
      "| [ast] /workspace/tmp/ast_test/code2ast_bpe_split/valid.ast: 1576 sents, 91786 tokens, 0.0512% replaced by <unk>\n",
      "| [ast] Dictionary: 1511 types\n",
      "| [ast] /workspace/tmp/ast_test/code2ast_bpe_split/test.ast: 526 sents, 30800 tokens, 0.0422% replaced by <unk>\n",
      "| Wrote preprocessed data to /workspace/tmp/ast_test/dataset_code2ast_bpe_lowercase_parenthesis.src-ast\n"
     ]
    }
   ],
   "source": [
    "!fairseq-preprocess \\\n",
    "    --source-lang src --target-lang ast \\\n",
    "    --trainpref $train_pref \\\n",
    "    --validpref $valid_pref \\\n",
    "    --testpref $test_pref \\\n",
    "    --destdir $dest_path \\\n",
    "    --nwordssrc 32000 --nwordstgt 32000 \\\n",
    "    --bpe sentencepiece \\\n",
    "    --workers 60"
   ]
  },
  {
   "cell_type": "code",
   "execution_count": null,
   "metadata": {},
   "outputs": [],
   "source": []
  }
 ],
 "metadata": {
  "kernelspec": {
   "display_name": "Python 3",
   "language": "python",
   "name": "python3"
  },
  "language_info": {
   "codemirror_mode": {
    "name": "ipython",
    "version": 3
   },
   "file_extension": ".py",
   "mimetype": "text/x-python",
   "name": "python",
   "nbconvert_exporter": "python",
   "pygments_lexer": "ipython3",
   "version": "3.7.4"
  }
 },
 "nbformat": 4,
 "nbformat_minor": 2
}
