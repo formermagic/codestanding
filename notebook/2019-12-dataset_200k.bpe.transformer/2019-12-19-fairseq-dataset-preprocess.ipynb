{
 "cells": [
  {
   "cell_type": "code",
   "execution_count": 4,
   "metadata": {
    "scrolled": true
   },
   "outputs": [
    {
     "name": "stdout",
     "output_type": "stream",
     "text": [
      "Hit:1 http://archive.ubuntu.com/ubuntu bionic InRelease\n",
      "Hit:2 http://security.ubuntu.com/ubuntu bionic-security InRelease   \n",
      "Hit:3 http://archive.ubuntu.com/ubuntu bionic-updates InRelease         \n",
      "Hit:4 http://archive.ubuntu.com/ubuntu bionic-backports InRelease        \n",
      "Ign:5 https://developer.download.nvidia.com/compute/cuda/repos/ubuntu1804/x86_64  InRelease\n",
      "Ign:6 https://developer.download.nvidia.com/compute/machine-learning/repos/ubuntu1804/x86_64  InRelease\n",
      "Hit:7 https://developer.download.nvidia.com/compute/cuda/repos/ubuntu1804/x86_64  Release\n",
      "Hit:8 https://developer.download.nvidia.com/compute/machine-learning/repos/ubuntu1804/x86_64  Release\n",
      "Reading package lists... Done\n",
      "Reading package lists... Done\n",
      "Building dependency tree       \n",
      "Reading state information... Done\n",
      "build-essential is already the newest version (12.4ubuntu1).\n",
      "0 upgraded, 0 newly installed, 0 to remove and 3 not upgraded.\n",
      "Collecting fairseq\n",
      "\u001b[?25l  Downloading https://files.pythonhosted.org/packages/67/bf/de299e082e7af010d35162cb9a185dc6c17db71624590f2f379aeb2519ff/fairseq-0.9.0.tar.gz (306kB)\n",
      "\u001b[K    100% |████████████████████████████████| 307kB 3.9MB/s ta 0:00:01  10% |███▏                            | 30kB 861kB/s eta 0:00:01\n",
      "\u001b[?25hRequirement already satisfied: sentencepiece in /opt/conda/lib/python3.7/site-packages (0.1.83)\n",
      "Requirement already satisfied: cffi in /opt/conda/lib/python3.7/site-packages (from fairseq) (1.11.5)\n",
      "Requirement already satisfied: cython in /opt/conda/lib/python3.7/site-packages (from fairseq) (0.29.14)\n",
      "Requirement already satisfied: numpy in /opt/conda/lib/python3.7/site-packages (from fairseq) (1.17.4)\n",
      "Requirement already satisfied: regex in /opt/conda/lib/python3.7/site-packages (from fairseq) (2019.12.9)\n",
      "Collecting sacrebleu (from fairseq)\n",
      "  Downloading https://files.pythonhosted.org/packages/45/31/1a135b964c169984b27fb2f7a50280fa7f8e6d9d404d8a9e596180487fd1/sacrebleu-1.4.3-py3-none-any.whl\n",
      "Requirement already satisfied: torch in /opt/conda/lib/python3.7/site-packages (from fairseq) (1.3.1)\n",
      "Requirement already satisfied: tqdm in /opt/conda/lib/python3.7/site-packages (from fairseq) (4.40.2)\n",
      "Requirement already satisfied: pycparser in /opt/conda/lib/python3.7/site-packages (from cffi->fairseq) (2.18)\n",
      "Requirement already satisfied: typing in /opt/conda/lib/python3.7/site-packages (from sacrebleu->fairseq) (3.7.4.1)\n",
      "Collecting portalocker (from sacrebleu->fairseq)\n",
      "  Downloading https://files.pythonhosted.org/packages/91/db/7bc703c0760df726839e0699b7f78a4d8217fdc9c7fcb1b51b39c5a22a4e/portalocker-1.5.2-py2.py3-none-any.whl\n",
      "Building wheels for collected packages: fairseq\n",
      "  Running setup.py bdist_wheel for fairseq ... \u001b[?25ldone\n",
      "\u001b[?25h  Stored in directory: /root/.cache/pip/wheels/37/3e/1b/0fa30695dcba41e4b0088067fa40f3328d1e8ee78c22cd4766\n",
      "Successfully built fairseq\n",
      "Installing collected packages: portalocker, sacrebleu, fairseq\n",
      "Successfully installed fairseq-0.9.0 portalocker-1.5.2 sacrebleu-1.4.3\n",
      "\u001b[33mYou are using pip version 10.0.1, however version 19.3.1 is available.\n",
      "You should consider upgrading via the 'pip install --upgrade pip' command.\u001b[0m\n"
     ]
    }
   ],
   "source": [
    "!apt-get update \\\n",
    "    && apt-get -y install build-essential \\\n",
    "    && pip install fairseq sentencepiece"
   ]
  },
  {
   "cell_type": "code",
   "execution_count": null,
   "metadata": {},
   "outputs": [],
   "source": [
    "import os"
   ]
  },
  {
   "cell_type": "markdown",
   "metadata": {},
   "source": [
    "## Download raw data pair (diff + msg) from storage"
   ]
  },
  {
   "cell_type": "code",
   "execution_count": 5,
   "metadata": {},
   "outputs": [],
   "source": [
    "# download data\n",
    "# TODO"
   ]
  },
  {
   "cell_type": "code",
   "execution_count": 1,
   "metadata": {},
   "outputs": [],
   "source": [
    "dataset_path = \"/workspace/data/dataset_200k/dataset_200k.bpe\"\n",
    "train_pref = os.path.join(dataset_path, \"train\")\n",
    "valid_pref = os.path.join(dataset_path, \"valid\")\n",
    "test_pref = os.path.join(dataset_path, \"test\")\n",
    "dest_path = \"/workspace/data/data-bin/dataset_200k.bpe.diff-msg\""
   ]
  },
  {
   "cell_type": "markdown",
   "metadata": {},
   "source": [
    "## Prepare a binarized dataset for training"
   ]
  },
  {
   "cell_type": "code",
   "execution_count": null,
   "metadata": {},
   "outputs": [],
   "source": [
    "!fairseq-preprocess \\\n",
    "    --source-lang diff --target-lang msg \\\n",
    "    --trainpref $train_pref \\\n",
    "    --validpref $valid_pref \\\n",
    "    --testpref $test_pref \\\n",
    "    --destdir $dest_path \\\n",
    "    --nwordssrc 16000 --nwordstgt 8000 \\\n",
    "    --tokenizer space \\\n",
    "    --bpe sentencepiece \\\n",
    "    --workers 60"
   ]
  }
 ],
 "metadata": {
  "kernelspec": {
   "display_name": "Python 3",
   "language": "python",
   "name": "python3"
  },
  "language_info": {
   "codemirror_mode": {
    "name": "ipython",
    "version": 3
   },
   "file_extension": ".py",
   "mimetype": "text/x-python",
   "name": "python",
   "nbconvert_exporter": "python",
   "pygments_lexer": "ipython3",
   "version": "3.7.4"
  }
 },
 "nbformat": 4,
 "nbformat_minor": 2
}
