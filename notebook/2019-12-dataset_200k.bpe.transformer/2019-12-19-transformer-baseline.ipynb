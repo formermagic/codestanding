{
 "cells": [
  {
   "cell_type": "code",
   "execution_count": 1,
   "metadata": {},
   "outputs": [
    {
     "name": "stdout",
     "output_type": "stream",
     "text": [
      "/bin/sh: 1: nvidia-smi: not found\r\n"
     ]
    }
   ],
   "source": [
    "!nvidia-smi"
   ]
  },
  {
   "cell_type": "code",
   "execution_count": 2,
   "metadata": {},
   "outputs": [],
   "source": [
    "dataset_path = \"/workspace/data/data-bin/dataset_200k.bpe.diff-msg/\"\n",
    "dest_path = \"/workspace/models/dataset_200k.bpe.transformer.diff-msg/\"\n",
    "tb_log_path = \"/workspace/log/dataset_200k.bpe.transformer.diff-msg/\""
   ]
  },
  {
   "cell_type": "markdown",
   "metadata": {},
   "source": [
    "## Train a baseline transformer_iwslt_de_en model"
   ]
  },
  {
   "cell_type": "code",
   "execution_count": 3,
   "metadata": {},
   "outputs": [
    {
     "name": "stdout",
     "output_type": "stream",
     "text": [
      "/bin/sh: 1: fairseq-train: not found\r\n"
     ]
    }
   ],
   "source": [
    "!CUDA_VISIBLE_DEVICES=0 fairseq-train \\\n",
    "    $dataset_path \\\n",
    "    --save-dir $dest_path \\\n",
    "    --keep-last-epochs 10 \\\n",
    "    --source-lang diff --target-lang msg \\\n",
    "    --arch transformer_iwslt_de_en \\\n",
    "    --activation-fn relu --attention-dropout 0.1 \\\n",
    "    --optimizer adam --adam-betas '(0.9, 0.98)' --clip-norm 0.0 \\\n",
    "    --lr 1e-5 --warmup-init-lr 5e-6 --lr-scheduler inverse_sqrt --warmup-updates 4000 --min-lr 5e-07 \\\n",
    "    --dropout 0.3 --weight-decay 0.0001 \\\n",
    "    --criterion label_smoothed_cross_entropy --label-smoothing 0.1 \\\n",
    "    --max-tokens 16384 \\\n",
    "    --tensorboard-logdir $tb_log_path \\\n",
    "    --fp16"
   ]
  },
  {
   "cell_type": "code",
   "execution_count": null,
   "metadata": {},
   "outputs": [],
   "source": [
    "import os\n",
    "model_path = os.path.join(dest_path, \"checkpoint_last.pt\")\n",
    "test_eval_path = os.path.join(dest_path, \"test-eval.out\")"
   ]
  },
  {
   "cell_type": "markdown",
   "metadata": {},
   "source": [
    "## Evaluate baseline translation result on test subset"
   ]
  },
  {
   "cell_type": "code",
   "execution_count": null,
   "metadata": {},
   "outputs": [],
   "source": [
    "!fairseq-generate \\\n",
    "    $dataset_path \\\n",
    "    --path $model_path \\\n",
    "    --beam 15 --lenpen 0.5 --remove-bpe --bpe sentencepiece \\\n",
    "    --fp16 \\\n",
    "    --batch-size 64 \\\n",
    "    --gen-subset test | tee $test_eval_path"
   ]
  }
 ],
 "metadata": {
  "kernelspec": {
   "display_name": "Python 3",
   "language": "python",
   "name": "python3"
  },
  "language_info": {
   "codemirror_mode": {
    "name": "ipython",
    "version": 3
   },
   "file_extension": ".py",
   "mimetype": "text/x-python",
   "name": "python",
   "nbconvert_exporter": "python",
   "pygments_lexer": "ipython3",
   "version": "3.7.4"
  }
 },
 "nbformat": 4,
 "nbformat_minor": 2
}
